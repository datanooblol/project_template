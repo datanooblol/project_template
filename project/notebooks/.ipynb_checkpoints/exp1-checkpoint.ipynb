{
 "cells": [
  {
   "cell_type": "markdown",
   "id": "996445a4-ad58-4b82-b42d-89ba70b0f15a",
   "metadata": {},
   "source": [
    "# Import Libraries"
   ]
  },
  {
   "cell_type": "code",
   "execution_count": 1,
   "id": "0a08aab4-b02c-4d0a-aecb-0e966f2a169d",
   "metadata": {},
   "outputs": [],
   "source": [
    "%load_ext autoreload\n",
    "%autoreload 2 # reload all updated modules - only existing module, new module will be not reloaded\n",
    "# %autoreload 1 # reload all updated modules"
   ]
  },
  {
   "cell_type": "code",
   "execution_count": 47,
   "id": "34252f26-d90b-4f1e-af73-05394a6817b4",
   "metadata": {},
   "outputs": [
    {
     "name": "stdout",
     "output_type": "stream",
     "text": [
      "cores: 8\n",
      "threads:  4\n",
      "threads/core:  2.0\n"
     ]
    }
   ],
   "source": [
    "# main functions for experiment\n",
    "# data manipulation\n",
    "import pandas as pd\n",
    "import numpy as np\n",
    "\n",
    "# data visualization\n",
    "import matplotlib.pyplot as plt\n",
    "import seaborn as sns\n",
    "import plotly.express as px\n",
    "import plotly.graph_objects as go\n",
    "from plotly.subplots import make_subplots\n",
    "\n",
    "# udf functions for this project\n",
    "from udf.extract.extract import *\n",
    "from udf.load.load import *\n",
    "from udf.model.model import *\n",
    "# from udf.transform.transform import PreProcessing, FeatureEngineering\n",
    "# from udf.transform.transform import (BaseTransform, \n",
    "#                                      PreProcessing, \n",
    "#                                      FeatureEngineering)\n",
    "\n",
    "from udf.pipeline.data_preparation import BasePipeline, PreProcessing\n",
    "from udf.pipeline.feature_engineering import FeatureEngineering\n",
    "from udf.pipeline.feature_pipeline import FeaturePipeline\n",
    "\n",
    "from udf.utils.logger import *\n",
    "from udf.utils.utils import *\n",
    "from udf.utils.configs import *\n",
    "from udf.utils.house_keeping import *\n",
    "from udf.visualize.visualize import *\n",
    "from udf.eda.eda import *\n",
    "\n",
    "from experiments.experiments import *\n",
    "\n",
    "# create and delete directories\n",
    "import shutil\n",
    "import os\n",
    "from functools import reduce\n",
    "import re\n",
    "from concurrent.futures import ProcessPoolExecutor, ThreadPoolExecutor\n",
    "import psutil\n",
    "from sklearn.preprocessing import OneHotEncoder\n",
    "\n",
    "set_env(env=\"dev\")\n",
    "# project_init()\n",
    "print(\"cores:\", psutil.cpu_count())\n",
    "print(\"threads: \",psutil.cpu_count(logical=False))\n",
    "print(\"threads/core: \",psutil.cpu_count() / psutil.cpu_count(logical=False))"
   ]
  },
  {
   "cell_type": "code",
   "execution_count": 4,
   "id": "79d315e3-9c68-4a02-b8d1-6ab3b4696f33",
   "metadata": {},
   "outputs": [],
   "source": [
    "hk = HouseKeeping()\n",
    "hk.remove_logs()"
   ]
  },
  {
   "cell_type": "markdown",
   "id": "9095716c-60d4-4148-82fb-9d75c5615d37",
   "metadata": {},
   "source": [
    "# UDF"
   ]
  },
  {
   "cell_type": "markdown",
   "id": "f368b658-15eb-425b-85af-ea1f30c0fd33",
   "metadata": {},
   "source": [
    "## EXP"
   ]
  },
  {
   "cell_type": "code",
   "execution_count": 40,
   "id": "d71a94db-e65b-464c-b9e5-f43b7b471602",
   "metadata": {},
   "outputs": [],
   "source": [
    "from udf.load.load import *\n",
    "from udf.extract.extract import *\n",
    "from sklearn.preprocessing import StandardScaler, Normalizer, PowerTransformer\n",
    "from sklearn.preprocessing import OneHotEncoder, LabelEncoder\n",
    "from udf.utils.utils import log_transform\n",
    "from configparser import RawConfigParser\n",
    "\n",
    "class BaseExperiment:\n",
    "    def __init__(self):\n",
    "        self.scaler = {}\n",
    "        self.encoder = {}\n",
    "        self.is_fit = False\n",
    "        self.one_hot = OneHotEncoder(sparse=False)\n",
    "        self.encode_col = [\"sex\",\"social_status\"]\n",
    "        \n",
    "    def _ohe(self, inputs):\n",
    "        data = inputs.copy()\n",
    "        if self.is_fit == False:\n",
    "            self.one_hot.fit(data)\n",
    "        else:\n",
    "            return self.one_hot.transform(data)\n",
    "    \n",
    "    \n",
    "    def fit(self, inputs):\n",
    "        data = inputs.copy()\n",
    "        self._ohe(inputs=data.loc[:,self.encode_col])\n",
    "        self.is_fit = True\n",
    "        return self\n",
    "    \n",
    "    def transform(self, inputs):\n",
    "        assert self.is_fit, \"use method: fit() before executing transform()\"\n",
    "        data = inputs.copy()\n",
    "        data = self._ohe(inputs=data.loc[:,self.encode_col])\n",
    "        # return data\n",
    "        return pd.DataFrame(data, columns=self.one_hot.get_feature_names_out(self.encode_col), dtype=np.int8)\n",
    "    \n",
    "    @log_transform\n",
    "    def fit_transform(self, inputs):\n",
    "        data = inputs.copy()\n",
    "        self.fit(inputs=data)\n",
    "        return self.transform(inputs=data)\n",
    "    \n",
    "class Experiment(BaseExperiment):\n",
    "    def __init__(self):\n",
    "        super().__init__()\n",
    "\n",
    "def get_experiment():\n",
    "    conf_path = \"../experiments/experiments.properties\"\n",
    "    parser = RawConfigParser()\n",
    "    parser.read(conf_path)\n",
    "    return parser"
   ]
  },
  {
   "cell_type": "markdown",
   "id": "1de4da63-b821-4785-91b7-660f62d8863b",
   "metadata": {},
   "source": [
    "# Load Data"
   ]
  },
  {
   "cell_type": "code",
   "execution_count": 5,
   "id": "91d7dd34-8df6-4821-91b0-3533fb7b8c23",
   "metadata": {},
   "outputs": [
    {
     "name": "stderr",
     "output_type": "stream",
     "text": [
      "[2022-04-17 16:15:11,787]|0.009254|dev|load|load_raw|56|epoch|(891, 12)\n",
      "[2022-04-17 16:15:11,792]|0.326480|dev|extract|project_init|64|epoch|(891, 12)\n",
      "[2022-04-17 16:15:11,806]|0.000000|dev|transform|run|43|start|(891, 12)\n",
      "[2022-04-17 16:15:11,818]|0.000000|dev|transform|lower_colname|20|start|(891, 12)\n",
      "[2022-04-17 16:15:11,823]|0.000645|dev|transform|lower_colname|20|end|(891, 12)\n",
      "[2022-04-17 16:15:11,833]|0.000000|dev|transform|round_n|37|start|(891, 12)\n",
      "[2022-04-17 16:15:11,840]|0.002089|dev|transform|round_n|37|end|(891, 12)\n",
      "[2022-04-17 16:15:11,851]|0.000000|dev|transform|drop_dup|27|start|(891, 12)\n",
      "[2022-04-17 16:15:11,859]|0.002990|dev|transform|drop_dup|27|end|(891, 12)\n",
      "[2022-04-17 16:15:11,869]|0.000000|dev|transform|drop_col_na|31|start|(891, 12)\n",
      "[2022-04-17 16:15:11,876]|0.001522|dev|transform|drop_col_na|31|end|(891, 9)\n",
      "[2022-04-17 16:15:11,881]|0.069180|dev|transform|run|43|end|(891, 9)\n",
      "[2022-04-17 16:15:11,891]|0.000000|dev|transform|run|60|start|(891, 9)\n",
      "[2022-04-17 16:15:11,901]|0.000000|dev|transform|pass_through|20|start|(891, 9)\n",
      "[2022-04-17 16:15:11,905]|0.000004|dev|transform|pass_through|20|end|(891, 9)\n",
      "[2022-04-17 16:15:11,917]|0.000000|dev|transform|social_status|24|start|(891, 9)\n",
      "[2022-04-17 16:15:11,929]|0.005431|dev|transform|social_status|24|end|(891, 2)\n",
      "[2022-04-17 16:15:11,942]|0.000000|dev|transform|family_size|42|start|(891, 9)\n",
      "[2022-04-17 16:15:11,950]|0.002796|dev|transform|family_size|42|end|(891, 2)\n",
      "[2022-04-17 16:15:11,961]|0.065649|dev|transform|run|60|end|(891, 11)\n",
      "[2022-04-17 16:15:11,986]|0.016454|dev|load|load_feature_store|60|epoch|(891, 11)\n"
     ]
    }
   ],
   "source": [
    "df_raw = project_init()\n",
    "fpl = FeaturePipeline()\n",
    "df = fpl(inputs=df_raw)"
   ]
  },
  {
   "cell_type": "code",
   "execution_count": 35,
   "id": "87c9f94b-f9cc-48b8-8708-fbe6961c769c",
   "metadata": {},
   "outputs": [
    {
     "ename": "AssertionError",
     "evalue": "test",
     "output_type": "error",
     "traceback": [
      "\u001b[0;31m---------------------------------------------------------------------------\u001b[0m",
      "\u001b[0;31mAssertionError\u001b[0m                            Traceback (most recent call last)",
      "Input \u001b[0;32mIn [35]\u001b[0m, in \u001b[0;36m<cell line: 1>\u001b[0;34m()\u001b[0m\n\u001b[0;32m----> 1\u001b[0m \u001b[38;5;28;01massert\u001b[39;00m \u001b[38;5;241m1\u001b[39m \u001b[38;5;241m==\u001b[39m \u001b[38;5;241m0\u001b[39m, \u001b[38;5;124m\"\u001b[39m\u001b[38;5;124mtest\u001b[39m\u001b[38;5;124m\"\u001b[39m\n",
      "\u001b[0;31mAssertionError\u001b[0m: test"
     ]
    }
   ],
   "source": [
    "# assert 1 == 0, \"test\"AssertionError"
   ]
  },
  {
   "cell_type": "code",
   "execution_count": 36,
   "id": "9c740259-ec6c-4251-a21f-64ccd71e4eaa",
   "metadata": {},
   "outputs": [
    {
     "ename": "AssertionError",
     "evalue": "int si wa",
     "output_type": "error",
     "traceback": [
      "\u001b[0;31m---------------------------------------------------------------------------\u001b[0m",
      "\u001b[0;31mAssertionError\u001b[0m                            Traceback (most recent call last)",
      "Input \u001b[0;32mIn [36]\u001b[0m, in \u001b[0;36m<cell line: 1>\u001b[0;34m()\u001b[0m\n\u001b[0;32m----> 1\u001b[0m \u001b[38;5;28;01massert\u001b[39;00m \u001b[38;5;28misinstance\u001b[39m(\u001b[38;5;241m1\u001b[39m,\u001b[38;5;28mstr\u001b[39m), \u001b[38;5;124m\"\u001b[39m\u001b[38;5;124mint si wa\u001b[39m\u001b[38;5;124m\"\u001b[39m\n",
      "\u001b[0;31mAssertionError\u001b[0m: int si wa"
     ]
    }
   ],
   "source": [
    "# assert isinstance(1,str), \"int si wa\""
   ]
  },
  {
   "cell_type": "code",
   "execution_count": 37,
   "id": "8705903b-2c67-46e3-bf56-8ae0d8f4b2ea",
   "metadata": {},
   "outputs": [],
   "source": [
    "# inputs = pd.DataFrame({\"test\":[i for i in range(20)]})\n",
    "\n",
    "# assert isinstance(inputs, pd.DataFrame), \"worng data type\"\n",
    "# assert inputs.shape[1] == 1, \"wrong len\""
   ]
  },
  {
   "cell_type": "code",
   "execution_count": 38,
   "id": "663d4bc3-18c7-4f19-a32d-4aeedb1d3651",
   "metadata": {},
   "outputs": [
    {
     "ename": "AssertionError",
     "evalue": "worng data type",
     "output_type": "error",
     "traceback": [
      "\u001b[0;31m---------------------------------------------------------------------------\u001b[0m",
      "\u001b[0;31mAssertionError\u001b[0m                            Traceback (most recent call last)",
      "Input \u001b[0;32mIn [38]\u001b[0m, in \u001b[0;36m<cell line: 1>\u001b[0;34m()\u001b[0m\n\u001b[0;32m----> 1\u001b[0m \u001b[38;5;28;01massert\u001b[39;00m \u001b[38;5;28misinstance\u001b[39m(inputs, pd\u001b[38;5;241m.\u001b[39mSeries), \u001b[38;5;124m\"\u001b[39m\u001b[38;5;124mworng data type\u001b[39m\u001b[38;5;124m\"\u001b[39m\n\u001b[1;32m      2\u001b[0m \u001b[38;5;28;01massert\u001b[39;00m inputs\u001b[38;5;241m.\u001b[39mshape[\u001b[38;5;241m1\u001b[39m] \u001b[38;5;241m==\u001b[39m \u001b[38;5;241m2\u001b[39m, \u001b[38;5;124m\"\u001b[39m\u001b[38;5;124mwrong len\u001b[39m\u001b[38;5;124m\"\u001b[39m\n",
      "\u001b[0;31mAssertionError\u001b[0m: worng data type"
     ]
    }
   ],
   "source": [
    "# assert isinstance(inputs, pd.Series), \"worng data type\"\n",
    "# assert inputs.shape[1] == 2, \"wrong len\""
   ]
  },
  {
   "cell_type": "code",
   "execution_count": 40,
   "id": "58ee5981-f888-4378-8f5a-36eb89865111",
   "metadata": {},
   "outputs": [
    {
     "ename": "ValueError",
     "evalue": "test",
     "output_type": "error",
     "traceback": [
      "\u001b[0;31m---------------------------------------------------------------------------\u001b[0m",
      "\u001b[0;31mValueError\u001b[0m                                Traceback (most recent call last)",
      "Input \u001b[0;32mIn [40]\u001b[0m, in \u001b[0;36m<cell line: 1>\u001b[0;34m()\u001b[0m\n\u001b[1;32m      2\u001b[0m     \u001b[38;5;28;01mpass\u001b[39;00m\n\u001b[1;32m      3\u001b[0m \u001b[38;5;28;01melse\u001b[39;00m:\n\u001b[0;32m----> 4\u001b[0m     \u001b[38;5;28;01mraise\u001b[39;00m \u001b[38;5;167;01mValueError\u001b[39;00m(\u001b[38;5;124m\"\u001b[39m\u001b[38;5;124mtest\u001b[39m\u001b[38;5;124m\"\u001b[39m)\n",
      "\u001b[0;31mValueError\u001b[0m: test"
     ]
    }
   ],
   "source": [
    "# if isinstance(inputs, pd.Series):\n",
    "#     pass\n",
    "# else:\n",
    "#     raise ValueError(\"test\")"
   ]
  },
  {
   "cell_type": "code",
   "execution_count": 5,
   "id": "36f692ea-3781-4296-86a7-df03719d9349",
   "metadata": {},
   "outputs": [
    {
     "data": {
      "image/png": "[encoded data removed]",
      "text/plain": [
       "<Figure size 1152x576 with 1 Axes>"
      ]
     },
     "metadata": {
      "needs_background": "light"
     },
     "output_type": "display_data"
    }
   ],
   "source": [
    "viz_na(inputs=df_raw, title=\"df_raw\");"
   ]
  },
  {
   "cell_type": "code",
   "execution_count": 4,
   "id": "3e1ea8f9-3a93-48e4-ab9d-5f3d94071c2a",
   "metadata": {},
   "outputs": [
    {
     "name": "stderr",
     "output_type": "stream",
     "text": [
      "[2022-04-17 16:11:56,186]|0.000000|dev|transform|run|43|start|(891, 12)\n",
      "[2022-04-17 16:11:56,194]|0.000000|dev|transform|lower_colname|20|start|(891, 12)\n",
      "[2022-04-17 16:11:56,201]|0.000674|dev|transform|lower_colname|20|end|(891, 12)\n",
      "[2022-04-17 16:11:56,210]|0.000000|dev|transform|round_n|37|start|(891, 12)\n",
      "[2022-04-17 16:11:56,215]|0.001156|dev|transform|round_n|37|end|(891, 12)\n",
      "[2022-04-17 16:11:56,224]|0.000000|dev|transform|drop_dup|27|start|(891, 12)\n",
      "[2022-04-17 16:11:56,235]|0.005974|dev|transform|drop_dup|27|end|(891, 12)\n",
      "[2022-04-17 16:11:56,245]|0.000000|dev|transform|drop_col_na|31|start|(891, 12)\n",
      "[2022-04-17 16:11:56,252]|0.001030|dev|transform|drop_col_na|31|end|(891, 9)\n",
      "[2022-04-17 16:11:56,257]|0.065970|dev|transform|run|43|end|(891, 9)\n"
     ]
    },
    {
     "data": {
      "text/html": [
       "<div>\n",
       "<style scoped>\n",
       "    .dataframe tbody tr th:only-of-type {\n",
       "        vertical-align: middle;\n",
       "    }\n",
       "\n",
       "    .dataframe tbody tr th {\n",
       "        vertical-align: top;\n",
       "    }\n",
       "\n",
       "    .dataframe thead th {\n",
       "        text-align: right;\n",
       "    }\n",
       "</style>\n",
       "<table border=\"1\" class=\"dataframe\">\n",
       "  <thead>\n",
       "    <tr style=\"text-align: right;\">\n",
       "      <th></th>\n",
       "      <th>passengerid</th>\n",
       "      <th>survived</th>\n",
       "      <th>pclass</th>\n",
       "      <th>name</th>\n",
       "      <th>sex</th>\n",
       "      <th>age</th>\n",
       "      <th>sibsp</th>\n",
       "      <th>parch</th>\n",
       "      <th>fare</th>\n",
       "    </tr>\n",
       "  </thead>\n",
       "  <tbody>\n",
       "    <tr>\n",
       "      <th>0</th>\n",
       "      <td>1</td>\n",
       "      <td>0</td>\n",
       "      <td>3</td>\n",
       "      <td>Braund, Mr. Owen Harris</td>\n",
       "      <td>male</td>\n",
       "      <td>22.0</td>\n",
       "      <td>1</td>\n",
       "      <td>0</td>\n",
       "      <td>7.25</td>\n",
       "    </tr>\n",
       "    <tr>\n",
       "      <th>1</th>\n",
       "      <td>2</td>\n",
       "      <td>1</td>\n",
       "      <td>1</td>\n",
       "      <td>Cumings, Mrs. John Bradley (Florence Briggs Th...</td>\n",
       "      <td>female</td>\n",
       "      <td>38.0</td>\n",
       "      <td>1</td>\n",
       "      <td>0</td>\n",
       "      <td>71.28</td>\n",
       "    </tr>\n",
       "    <tr>\n",
       "      <th>2</th>\n",
       "      <td>3</td>\n",
       "      <td>1</td>\n",
       "      <td>3</td>\n",
       "      <td>Heikkinen, Miss. Laina</td>\n",
       "      <td>female</td>\n",
       "      <td>26.0</td>\n",
       "      <td>0</td>\n",
       "      <td>0</td>\n",
       "      <td>7.92</td>\n",
       "    </tr>\n",
       "    <tr>\n",
       "      <th>3</th>\n",
       "      <td>4</td>\n",
       "      <td>1</td>\n",
       "      <td>1</td>\n",
       "      <td>Futrelle, Mrs. Jacques Heath (Lily May Peel)</td>\n",
       "      <td>female</td>\n",
       "      <td>35.0</td>\n",
       "      <td>1</td>\n",
       "      <td>0</td>\n",
       "      <td>53.10</td>\n",
       "    </tr>\n",
       "    <tr>\n",
       "      <th>4</th>\n",
       "      <td>5</td>\n",
       "      <td>0</td>\n",
       "      <td>3</td>\n",
       "      <td>Allen, Mr. William Henry</td>\n",
       "      <td>male</td>\n",
       "      <td>35.0</td>\n",
       "      <td>0</td>\n",
       "      <td>0</td>\n",
       "      <td>8.05</td>\n",
       "    </tr>\n",
       "    <tr>\n",
       "      <th>5</th>\n",
       "      <td>6</td>\n",
       "      <td>0</td>\n",
       "      <td>3</td>\n",
       "      <td>Moran, Mr. James</td>\n",
       "      <td>male</td>\n",
       "      <td>NaN</td>\n",
       "      <td>0</td>\n",
       "      <td>0</td>\n",
       "      <td>8.46</td>\n",
       "    </tr>\n",
       "    <tr>\n",
       "      <th>6</th>\n",
       "      <td>7</td>\n",
       "      <td>0</td>\n",
       "      <td>1</td>\n",
       "      <td>McCarthy, Mr. Timothy J</td>\n",
       "      <td>male</td>\n",
       "      <td>54.0</td>\n",
       "      <td>0</td>\n",
       "      <td>0</td>\n",
       "      <td>51.86</td>\n",
       "    </tr>\n",
       "    <tr>\n",
       "      <th>7</th>\n",
       "      <td>8</td>\n",
       "      <td>0</td>\n",
       "      <td>3</td>\n",
       "      <td>Palsson, Master. Gosta Leonard</td>\n",
       "      <td>male</td>\n",
       "      <td>2.0</td>\n",
       "      <td>3</td>\n",
       "      <td>1</td>\n",
       "      <td>21.07</td>\n",
       "    </tr>\n",
       "    <tr>\n",
       "      <th>8</th>\n",
       "      <td>9</td>\n",
       "      <td>1</td>\n",
       "      <td>3</td>\n",
       "      <td>Johnson, Mrs. Oscar W (Elisabeth Vilhelmina Berg)</td>\n",
       "      <td>female</td>\n",
       "      <td>27.0</td>\n",
       "      <td>0</td>\n",
       "      <td>2</td>\n",
       "      <td>11.13</td>\n",
       "    </tr>\n",
       "    <tr>\n",
       "      <th>9</th>\n",
       "      <td>10</td>\n",
       "      <td>1</td>\n",
       "      <td>2</td>\n",
       "      <td>Nasser, Mrs. Nicholas (Adele Achem)</td>\n",
       "      <td>female</td>\n",
       "      <td>14.0</td>\n",
       "      <td>1</td>\n",
       "      <td>0</td>\n",
       "      <td>30.07</td>\n",
       "    </tr>\n",
       "  </tbody>\n",
       "</table>\n",
       "</div>"
      ],
      "text/plain": [
       "   passengerid  survived  pclass  \\\n",
       "0            1         0       3   \n",
       "1            2         1       1   \n",
       "2            3         1       3   \n",
       "3            4         1       1   \n",
       "4            5         0       3   \n",
       "5            6         0       3   \n",
       "6            7         0       1   \n",
       "7            8         0       3   \n",
       "8            9         1       3   \n",
       "9           10         1       2   \n",
       "\n",
       "                                                name     sex   age  sibsp  \\\n",
       "0                            Braund, Mr. Owen Harris    male  22.0      1   \n",
       "1  Cumings, Mrs. John Bradley (Florence Briggs Th...  female  38.0      1   \n",
       "2                             Heikkinen, Miss. Laina  female  26.0      0   \n",
       "3       Futrelle, Mrs. Jacques Heath (Lily May Peel)  female  35.0      1   \n",
       "4                           Allen, Mr. William Henry    male  35.0      0   \n",
       "5                                   Moran, Mr. James    male   NaN      0   \n",
       "6                            McCarthy, Mr. Timothy J    male  54.0      0   \n",
       "7                     Palsson, Master. Gosta Leonard    male   2.0      3   \n",
       "8  Johnson, Mrs. Oscar W (Elisabeth Vilhelmina Berg)  female  27.0      0   \n",
       "9                Nasser, Mrs. Nicholas (Adele Achem)  female  14.0      1   \n",
       "\n",
       "   parch   fare  \n",
       "0      0   7.25  \n",
       "1      0  71.28  \n",
       "2      0   7.92  \n",
       "3      0  53.10  \n",
       "4      0   8.05  \n",
       "5      0   8.46  \n",
       "6      0  51.86  \n",
       "7      1  21.07  \n",
       "8      2  11.13  \n",
       "9      0  30.07  "
      ]
     },
     "execution_count": 4,
     "metadata": {},
     "output_type": "execute_result"
    }
   ],
   "source": [
    "prep = PreProcessing()\n",
    "df_cleaned = prep.run(inputs=df_raw)\n",
    "df_cleaned.head(10)"
   ]
  },
  {
   "cell_type": "code",
   "execution_count": 7,
   "id": "ec6f50ca-2dd9-4df9-a794-b3c5133daa32",
   "metadata": {},
   "outputs": [
    {
     "data": {
      "image/png": "[encoded data removed]",
      "text/plain": [
       "<Figure size 1152x576 with 1 Axes>"
      ]
     },
     "metadata": {
      "needs_background": "light"
     },
     "output_type": "display_data"
    }
   ],
   "source": [
    "viz_na(inputs=df_cleaned, title=\"df_cleaned\");"
   ]
  },
  {
   "cell_type": "code",
   "execution_count": 8,
   "id": "0e188650-220c-4433-9e15-b9376a3cd5c0",
   "metadata": {},
   "outputs": [
    {
     "name": "stdout",
     "output_type": "stream",
     "text": [
      "<class 'pandas.core.frame.DataFrame'>\n",
      "Int64Index: 891 entries, 0 to 890\n",
      "Data columns (total 9 columns):\n",
      " #   Column       Non-Null Count  Dtype  \n",
      "---  ------       --------------  -----  \n",
      " 0   passengerid  891 non-null    int16  \n",
      " 1   survived     891 non-null    int8   \n",
      " 2   pclass       891 non-null    int16  \n",
      " 3   name         891 non-null    object \n",
      " 4   sex          891 non-null    object \n",
      " 5   age          714 non-null    float16\n",
      " 6   sibsp        891 non-null    int8   \n",
      " 7   parch        891 non-null    int8   \n",
      " 8   fare         891 non-null    float64\n",
      "dtypes: float16(1), float64(1), int16(2), int8(3), object(2)\n",
      "memory usage: 35.7+ KB\n"
     ]
    }
   ],
   "source": [
    "df_cleaned.info()"
   ]
  },
  {
   "cell_type": "code",
   "execution_count": 10,
   "id": "bbac0f5d-b916-4ad8-a187-96c955770afb",
   "metadata": {},
   "outputs": [
    {
     "data": {
      "text/html": [
       "<div>\n",
       "<style scoped>\n",
       "    .dataframe tbody tr th:only-of-type {\n",
       "        vertical-align: middle;\n",
       "    }\n",
       "\n",
       "    .dataframe tbody tr th {\n",
       "        vertical-align: top;\n",
       "    }\n",
       "\n",
       "    .dataframe thead th {\n",
       "        text-align: right;\n",
       "    }\n",
       "</style>\n",
       "<table border=\"1\" class=\"dataframe\">\n",
       "  <thead>\n",
       "    <tr style=\"text-align: right;\">\n",
       "      <th></th>\n",
       "      <th>passengerid</th>\n",
       "      <th>survived</th>\n",
       "      <th>pclass</th>\n",
       "      <th>name</th>\n",
       "      <th>sex</th>\n",
       "      <th>age</th>\n",
       "      <th>sibsp</th>\n",
       "      <th>parch</th>\n",
       "      <th>fare</th>\n",
       "      <th>social_status</th>\n",
       "      <th>family_size</th>\n",
       "    </tr>\n",
       "  </thead>\n",
       "  <tbody>\n",
       "    <tr>\n",
       "      <th>449</th>\n",
       "      <td>450</td>\n",
       "      <td>1</td>\n",
       "      <td>1</td>\n",
       "      <td>Peuchen, Major. Arthur Godfrey</td>\n",
       "      <td>male</td>\n",
       "      <td>52.0</td>\n",
       "      <td>0</td>\n",
       "      <td>0</td>\n",
       "      <td>30.50</td>\n",
       "      <td>military</td>\n",
       "      <td>0</td>\n",
       "    </tr>\n",
       "    <tr>\n",
       "      <th>536</th>\n",
       "      <td>537</td>\n",
       "      <td>0</td>\n",
       "      <td>1</td>\n",
       "      <td>Butt, Major. Archibald Willingham</td>\n",
       "      <td>male</td>\n",
       "      <td>45.0</td>\n",
       "      <td>0</td>\n",
       "      <td>0</td>\n",
       "      <td>26.55</td>\n",
       "      <td>military</td>\n",
       "      <td>0</td>\n",
       "    </tr>\n",
       "    <tr>\n",
       "      <th>647</th>\n",
       "      <td>648</td>\n",
       "      <td>1</td>\n",
       "      <td>1</td>\n",
       "      <td>Simonius-Blumer, Col. Oberst Alfons</td>\n",
       "      <td>male</td>\n",
       "      <td>56.0</td>\n",
       "      <td>0</td>\n",
       "      <td>0</td>\n",
       "      <td>35.50</td>\n",
       "      <td>military</td>\n",
       "      <td>0</td>\n",
       "    </tr>\n",
       "    <tr>\n",
       "      <th>694</th>\n",
       "      <td>695</td>\n",
       "      <td>0</td>\n",
       "      <td>1</td>\n",
       "      <td>Weir, Col. John</td>\n",
       "      <td>male</td>\n",
       "      <td>60.0</td>\n",
       "      <td>0</td>\n",
       "      <td>0</td>\n",
       "      <td>26.55</td>\n",
       "      <td>military</td>\n",
       "      <td>0</td>\n",
       "    </tr>\n",
       "    <tr>\n",
       "      <th>745</th>\n",
       "      <td>746</td>\n",
       "      <td>0</td>\n",
       "      <td>1</td>\n",
       "      <td>Crosby, Capt. Edward Gifford</td>\n",
       "      <td>male</td>\n",
       "      <td>70.0</td>\n",
       "      <td>1</td>\n",
       "      <td>1</td>\n",
       "      <td>71.00</td>\n",
       "      <td>military</td>\n",
       "      <td>2</td>\n",
       "    </tr>\n",
       "  </tbody>\n",
       "</table>\n",
       "</div>"
      ],
      "text/plain": [
       "     passengerid  survived  pclass                                 name   sex  \\\n",
       "449          450         1       1       Peuchen, Major. Arthur Godfrey  male   \n",
       "536          537         0       1    Butt, Major. Archibald Willingham  male   \n",
       "647          648         1       1  Simonius-Blumer, Col. Oberst Alfons  male   \n",
       "694          695         0       1                      Weir, Col. John  male   \n",
       "745          746         0       1         Crosby, Capt. Edward Gifford  male   \n",
       "\n",
       "      age  sibsp  parch   fare social_status  family_size  \n",
       "449  52.0      0      0  30.50      military            0  \n",
       "536  45.0      0      0  26.55      military            0  \n",
       "647  56.0      0      0  35.50      military            0  \n",
       "694  60.0      0      0  26.55      military            0  \n",
       "745  70.0      1      1  71.00      military            2  "
      ]
     },
     "execution_count": 10,
     "metadata": {},
     "output_type": "execute_result"
    }
   ],
   "source": [
    "df.loc[df[\"social_status\"]==\"military\"]"
   ]
  },
  {
   "cell_type": "code",
   "execution_count": 11,
   "id": "5ffffef0-aeda-4d8d-9721-5a09313ab91d",
   "metadata": {},
   "outputs": [
    {
     "data": {
      "text/html": [
       "<div>\n",
       "<style scoped>\n",
       "    .dataframe tbody tr th:only-of-type {\n",
       "        vertical-align: middle;\n",
       "    }\n",
       "\n",
       "    .dataframe tbody tr th {\n",
       "        vertical-align: top;\n",
       "    }\n",
       "\n",
       "    .dataframe thead th {\n",
       "        text-align: right;\n",
       "    }\n",
       "</style>\n",
       "<table border=\"1\" class=\"dataframe\">\n",
       "  <thead>\n",
       "    <tr style=\"text-align: right;\">\n",
       "      <th>social_status</th>\n",
       "      <th>believer</th>\n",
       "      <th>educated_person</th>\n",
       "      <th>female</th>\n",
       "      <th>male</th>\n",
       "      <th>married_female</th>\n",
       "      <th>master_male</th>\n",
       "      <th>military</th>\n",
       "      <th>noble_female</th>\n",
       "      <th>noble_male</th>\n",
       "      <th>single_female</th>\n",
       "    </tr>\n",
       "    <tr>\n",
       "      <th>survived</th>\n",
       "      <th></th>\n",
       "      <th></th>\n",
       "      <th></th>\n",
       "      <th></th>\n",
       "      <th></th>\n",
       "      <th></th>\n",
       "      <th></th>\n",
       "      <th></th>\n",
       "      <th></th>\n",
       "      <th></th>\n",
       "    </tr>\n",
       "  </thead>\n",
       "  <tbody>\n",
       "    <tr>\n",
       "      <th>0</th>\n",
       "      <td>6</td>\n",
       "      <td>4</td>\n",
       "      <td>0</td>\n",
       "      <td>436</td>\n",
       "      <td>26</td>\n",
       "      <td>17</td>\n",
       "      <td>3</td>\n",
       "      <td>0</td>\n",
       "      <td>2</td>\n",
       "      <td>55</td>\n",
       "    </tr>\n",
       "    <tr>\n",
       "      <th>1</th>\n",
       "      <td>0</td>\n",
       "      <td>3</td>\n",
       "      <td>2</td>\n",
       "      <td>81</td>\n",
       "      <td>99</td>\n",
       "      <td>23</td>\n",
       "      <td>2</td>\n",
       "      <td>2</td>\n",
       "      <td>1</td>\n",
       "      <td>129</td>\n",
       "    </tr>\n",
       "  </tbody>\n",
       "</table>\n",
       "</div>"
      ],
      "text/plain": [
       "social_status  believer  educated_person  female  male  married_female  \\\n",
       "survived                                                                 \n",
       "0                     6                4       0   436              26   \n",
       "1                     0                3       2    81              99   \n",
       "\n",
       "social_status  master_male  military  noble_female  noble_male  single_female  \n",
       "survived                                                                       \n",
       "0                       17         3             0           2             55  \n",
       "1                       23         2             2           1            129  "
      ]
     },
     "execution_count": 11,
     "metadata": {},
     "output_type": "execute_result"
    }
   ],
   "source": [
    "pd.crosstab(df[\"survived\"],df[\"social_status\"])"
   ]
  },
  {
   "cell_type": "code",
   "execution_count": 6,
   "id": "c39a19e3-7a97-445c-9154-41ca66fa2cef",
   "metadata": {},
   "outputs": [
    {
     "data": {
      "text/html": [
       "<div>\n",
       "<style scoped>\n",
       "    .dataframe tbody tr th:only-of-type {\n",
       "        vertical-align: middle;\n",
       "    }\n",
       "\n",
       "    .dataframe tbody tr th {\n",
       "        vertical-align: top;\n",
       "    }\n",
       "\n",
       "    .dataframe thead th {\n",
       "        text-align: right;\n",
       "    }\n",
       "</style>\n",
       "<table border=\"1\" class=\"dataframe\">\n",
       "  <thead>\n",
       "    <tr style=\"text-align: right;\">\n",
       "      <th></th>\n",
       "      <th>passengerid</th>\n",
       "      <th>survived</th>\n",
       "      <th>pclass</th>\n",
       "      <th>name</th>\n",
       "      <th>sex</th>\n",
       "      <th>age</th>\n",
       "      <th>sibsp</th>\n",
       "      <th>parch</th>\n",
       "      <th>fare</th>\n",
       "      <th>social_status</th>\n",
       "      <th>family_size</th>\n",
       "    </tr>\n",
       "  </thead>\n",
       "  <tbody>\n",
       "    <tr>\n",
       "      <th>0</th>\n",
       "      <td>1</td>\n",
       "      <td>0</td>\n",
       "      <td>3</td>\n",
       "      <td>Braund, Mr. Owen Harris</td>\n",
       "      <td>male</td>\n",
       "      <td>22.0</td>\n",
       "      <td>1</td>\n",
       "      <td>0</td>\n",
       "      <td>7.25</td>\n",
       "      <td>male</td>\n",
       "      <td>1</td>\n",
       "    </tr>\n",
       "    <tr>\n",
       "      <th>1</th>\n",
       "      <td>2</td>\n",
       "      <td>1</td>\n",
       "      <td>1</td>\n",
       "      <td>Cumings, Mrs. John Bradley (Florence Briggs Th...</td>\n",
       "      <td>female</td>\n",
       "      <td>38.0</td>\n",
       "      <td>1</td>\n",
       "      <td>0</td>\n",
       "      <td>71.28</td>\n",
       "      <td>married_female</td>\n",
       "      <td>1</td>\n",
       "    </tr>\n",
       "    <tr>\n",
       "      <th>2</th>\n",
       "      <td>3</td>\n",
       "      <td>1</td>\n",
       "      <td>3</td>\n",
       "      <td>Heikkinen, Miss. Laina</td>\n",
       "      <td>female</td>\n",
       "      <td>26.0</td>\n",
       "      <td>0</td>\n",
       "      <td>0</td>\n",
       "      <td>7.92</td>\n",
       "      <td>single_female</td>\n",
       "      <td>0</td>\n",
       "    </tr>\n",
       "    <tr>\n",
       "      <th>3</th>\n",
       "      <td>4</td>\n",
       "      <td>1</td>\n",
       "      <td>1</td>\n",
       "      <td>Futrelle, Mrs. Jacques Heath (Lily May Peel)</td>\n",
       "      <td>female</td>\n",
       "      <td>35.0</td>\n",
       "      <td>1</td>\n",
       "      <td>0</td>\n",
       "      <td>53.10</td>\n",
       "      <td>married_female</td>\n",
       "      <td>1</td>\n",
       "    </tr>\n",
       "    <tr>\n",
       "      <th>4</th>\n",
       "      <td>5</td>\n",
       "      <td>0</td>\n",
       "      <td>3</td>\n",
       "      <td>Allen, Mr. William Henry</td>\n",
       "      <td>male</td>\n",
       "      <td>35.0</td>\n",
       "      <td>0</td>\n",
       "      <td>0</td>\n",
       "      <td>8.05</td>\n",
       "      <td>male</td>\n",
       "      <td>0</td>\n",
       "    </tr>\n",
       "  </tbody>\n",
       "</table>\n",
       "</div>"
      ],
      "text/plain": [
       "   passengerid  survived  pclass  \\\n",
       "0            1         0       3   \n",
       "1            2         1       1   \n",
       "2            3         1       3   \n",
       "3            4         1       1   \n",
       "4            5         0       3   \n",
       "\n",
       "                                                name     sex   age  sibsp  \\\n",
       "0                            Braund, Mr. Owen Harris    male  22.0      1   \n",
       "1  Cumings, Mrs. John Bradley (Florence Briggs Th...  female  38.0      1   \n",
       "2                             Heikkinen, Miss. Laina  female  26.0      0   \n",
       "3       Futrelle, Mrs. Jacques Heath (Lily May Peel)  female  35.0      1   \n",
       "4                           Allen, Mr. William Henry    male  35.0      0   \n",
       "\n",
       "   parch   fare   social_status  family_size  \n",
       "0      0   7.25            male            1  \n",
       "1      0  71.28  married_female            1  \n",
       "2      0   7.92   single_female            0  \n",
       "3      0  53.10  married_female            1  \n",
       "4      0   8.05            male            0  "
      ]
     },
     "execution_count": 6,
     "metadata": {},
     "output_type": "execute_result"
    }
   ],
   "source": [
    "df.head()"
   ]
  },
  {
   "cell_type": "code",
   "execution_count": 7,
   "id": "dac80e14-4c1c-4632-a778-28a4fcf55de3",
   "metadata": {},
   "outputs": [],
   "source": [
    "ohe = OneHotEncoder(sparse=False)\n",
    "encode_col = [\"sex\",\"social_status\"]\n",
    "df_ohe = ohe.fit_transform(df[encode_col])"
   ]
  },
  {
   "cell_type": "code",
   "execution_count": 8,
   "id": "7d06b653-fb92-4d96-b3f6-8350a085ba81",
   "metadata": {},
   "outputs": [
    {
     "data": {
      "text/plain": [
       "array([[0., 1., 0., ..., 0., 0., 0.],\n",
       "       [1., 0., 0., ..., 0., 0., 0.],\n",
       "       [1., 0., 0., ..., 0., 0., 1.],\n",
       "       ...,\n",
       "       [1., 0., 0., ..., 0., 0., 1.],\n",
       "       [0., 1., 0., ..., 0., 0., 0.],\n",
       "       [0., 1., 0., ..., 0., 0., 0.]])"
      ]
     },
     "execution_count": 8,
     "metadata": {},
     "output_type": "execute_result"
    }
   ],
   "source": [
    "df_ohe"
   ]
  },
  {
   "cell_type": "code",
   "execution_count": 9,
   "id": "09445169-b780-4a6e-aff4-32bb48bcb509",
   "metadata": {},
   "outputs": [
    {
     "data": {
      "text/plain": [
       "array(['sex_female', 'sex_male', 'social_status_believer',\n",
       "       'social_status_educated_person', 'social_status_female',\n",
       "       'social_status_male', 'social_status_married_female',\n",
       "       'social_status_master_male', 'social_status_military',\n",
       "       'social_status_noble_female', 'social_status_noble_male',\n",
       "       'social_status_single_female'], dtype=object)"
      ]
     },
     "execution_count": 9,
     "metadata": {},
     "output_type": "execute_result"
    }
   ],
   "source": [
    "ohe.get_feature_names_out(encode_col)"
   ]
  },
  {
   "cell_type": "code",
   "execution_count": 10,
   "id": "9d69868a-4d28-44d0-af11-10c802490415",
   "metadata": {},
   "outputs": [
    {
     "data": {
      "text/html": [
       "<div>\n",
       "<style scoped>\n",
       "    .dataframe tbody tr th:only-of-type {\n",
       "        vertical-align: middle;\n",
       "    }\n",
       "\n",
       "    .dataframe tbody tr th {\n",
       "        vertical-align: top;\n",
       "    }\n",
       "\n",
       "    .dataframe thead th {\n",
       "        text-align: right;\n",
       "    }\n",
       "</style>\n",
       "<table border=\"1\" class=\"dataframe\">\n",
       "  <thead>\n",
       "    <tr style=\"text-align: right;\">\n",
       "      <th></th>\n",
       "      <th>sex_female</th>\n",
       "      <th>sex_male</th>\n",
       "      <th>social_status_believer</th>\n",
       "      <th>social_status_educated_person</th>\n",
       "      <th>social_status_female</th>\n",
       "      <th>social_status_male</th>\n",
       "      <th>social_status_married_female</th>\n",
       "      <th>social_status_master_male</th>\n",
       "      <th>social_status_military</th>\n",
       "      <th>social_status_noble_female</th>\n",
       "      <th>social_status_noble_male</th>\n",
       "      <th>social_status_single_female</th>\n",
       "    </tr>\n",
       "  </thead>\n",
       "  <tbody>\n",
       "    <tr>\n",
       "      <th>0</th>\n",
       "      <td>0.0</td>\n",
       "      <td>1.0</td>\n",
       "      <td>0.0</td>\n",
       "      <td>0.0</td>\n",
       "      <td>0.0</td>\n",
       "      <td>1.0</td>\n",
       "      <td>0.0</td>\n",
       "      <td>0.0</td>\n",
       "      <td>0.0</td>\n",
       "      <td>0.0</td>\n",
       "      <td>0.0</td>\n",
       "      <td>0.0</td>\n",
       "    </tr>\n",
       "    <tr>\n",
       "      <th>1</th>\n",
       "      <td>1.0</td>\n",
       "      <td>0.0</td>\n",
       "      <td>0.0</td>\n",
       "      <td>0.0</td>\n",
       "      <td>0.0</td>\n",
       "      <td>0.0</td>\n",
       "      <td>1.0</td>\n",
       "      <td>0.0</td>\n",
       "      <td>0.0</td>\n",
       "      <td>0.0</td>\n",
       "      <td>0.0</td>\n",
       "      <td>0.0</td>\n",
       "    </tr>\n",
       "    <tr>\n",
       "      <th>2</th>\n",
       "      <td>1.0</td>\n",
       "      <td>0.0</td>\n",
       "      <td>0.0</td>\n",
       "      <td>0.0</td>\n",
       "      <td>0.0</td>\n",
       "      <td>0.0</td>\n",
       "      <td>0.0</td>\n",
       "      <td>0.0</td>\n",
       "      <td>0.0</td>\n",
       "      <td>0.0</td>\n",
       "      <td>0.0</td>\n",
       "      <td>1.0</td>\n",
       "    </tr>\n",
       "    <tr>\n",
       "      <th>3</th>\n",
       "      <td>1.0</td>\n",
       "      <td>0.0</td>\n",
       "      <td>0.0</td>\n",
       "      <td>0.0</td>\n",
       "      <td>0.0</td>\n",
       "      <td>0.0</td>\n",
       "      <td>1.0</td>\n",
       "      <td>0.0</td>\n",
       "      <td>0.0</td>\n",
       "      <td>0.0</td>\n",
       "      <td>0.0</td>\n",
       "      <td>0.0</td>\n",
       "    </tr>\n",
       "    <tr>\n",
       "      <th>4</th>\n",
       "      <td>0.0</td>\n",
       "      <td>1.0</td>\n",
       "      <td>0.0</td>\n",
       "      <td>0.0</td>\n",
       "      <td>0.0</td>\n",
       "      <td>1.0</td>\n",
       "      <td>0.0</td>\n",
       "      <td>0.0</td>\n",
       "      <td>0.0</td>\n",
       "      <td>0.0</td>\n",
       "      <td>0.0</td>\n",
       "      <td>0.0</td>\n",
       "    </tr>\n",
       "    <tr>\n",
       "      <th>...</th>\n",
       "      <td>...</td>\n",
       "      <td>...</td>\n",
       "      <td>...</td>\n",
       "      <td>...</td>\n",
       "      <td>...</td>\n",
       "      <td>...</td>\n",
       "      <td>...</td>\n",
       "      <td>...</td>\n",
       "      <td>...</td>\n",
       "      <td>...</td>\n",
       "      <td>...</td>\n",
       "      <td>...</td>\n",
       "    </tr>\n",
       "    <tr>\n",
       "      <th>886</th>\n",
       "      <td>0.0</td>\n",
       "      <td>1.0</td>\n",
       "      <td>1.0</td>\n",
       "      <td>0.0</td>\n",
       "      <td>0.0</td>\n",
       "      <td>0.0</td>\n",
       "      <td>0.0</td>\n",
       "      <td>0.0</td>\n",
       "      <td>0.0</td>\n",
       "      <td>0.0</td>\n",
       "      <td>0.0</td>\n",
       "      <td>0.0</td>\n",
       "    </tr>\n",
       "    <tr>\n",
       "      <th>887</th>\n",
       "      <td>1.0</td>\n",
       "      <td>0.0</td>\n",
       "      <td>0.0</td>\n",
       "      <td>0.0</td>\n",
       "      <td>0.0</td>\n",
       "      <td>0.0</td>\n",
       "      <td>0.0</td>\n",
       "      <td>0.0</td>\n",
       "      <td>0.0</td>\n",
       "      <td>0.0</td>\n",
       "      <td>0.0</td>\n",
       "      <td>1.0</td>\n",
       "    </tr>\n",
       "    <tr>\n",
       "      <th>888</th>\n",
       "      <td>1.0</td>\n",
       "      <td>0.0</td>\n",
       "      <td>0.0</td>\n",
       "      <td>0.0</td>\n",
       "      <td>0.0</td>\n",
       "      <td>0.0</td>\n",
       "      <td>0.0</td>\n",
       "      <td>0.0</td>\n",
       "      <td>0.0</td>\n",
       "      <td>0.0</td>\n",
       "      <td>0.0</td>\n",
       "      <td>1.0</td>\n",
       "    </tr>\n",
       "    <tr>\n",
       "      <th>889</th>\n",
       "      <td>0.0</td>\n",
       "      <td>1.0</td>\n",
       "      <td>0.0</td>\n",
       "      <td>0.0</td>\n",
       "      <td>0.0</td>\n",
       "      <td>1.0</td>\n",
       "      <td>0.0</td>\n",
       "      <td>0.0</td>\n",
       "      <td>0.0</td>\n",
       "      <td>0.0</td>\n",
       "      <td>0.0</td>\n",
       "      <td>0.0</td>\n",
       "    </tr>\n",
       "    <tr>\n",
       "      <th>890</th>\n",
       "      <td>0.0</td>\n",
       "      <td>1.0</td>\n",
       "      <td>0.0</td>\n",
       "      <td>0.0</td>\n",
       "      <td>0.0</td>\n",
       "      <td>1.0</td>\n",
       "      <td>0.0</td>\n",
       "      <td>0.0</td>\n",
       "      <td>0.0</td>\n",
       "      <td>0.0</td>\n",
       "      <td>0.0</td>\n",
       "      <td>0.0</td>\n",
       "    </tr>\n",
       "  </tbody>\n",
       "</table>\n",
       "<p>891 rows × 12 columns</p>\n",
       "</div>"
      ],
      "text/plain": [
       "     sex_female  sex_male  social_status_believer  \\\n",
       "0           0.0       1.0                     0.0   \n",
       "1           1.0       0.0                     0.0   \n",
       "2           1.0       0.0                     0.0   \n",
       "3           1.0       0.0                     0.0   \n",
       "4           0.0       1.0                     0.0   \n",
       "..          ...       ...                     ...   \n",
       "886         0.0       1.0                     1.0   \n",
       "887         1.0       0.0                     0.0   \n",
       "888         1.0       0.0                     0.0   \n",
       "889         0.0       1.0                     0.0   \n",
       "890         0.0       1.0                     0.0   \n",
       "\n",
       "     social_status_educated_person  social_status_female  social_status_male  \\\n",
       "0                              0.0                   0.0                 1.0   \n",
       "1                              0.0                   0.0                 0.0   \n",
       "2                              0.0                   0.0                 0.0   \n",
       "3                              0.0                   0.0                 0.0   \n",
       "4                              0.0                   0.0                 1.0   \n",
       "..                             ...                   ...                 ...   \n",
       "886                            0.0                   0.0                 0.0   \n",
       "887                            0.0                   0.0                 0.0   \n",
       "888                            0.0                   0.0                 0.0   \n",
       "889                            0.0                   0.0                 1.0   \n",
       "890                            0.0                   0.0                 1.0   \n",
       "\n",
       "     social_status_married_female  social_status_master_male  \\\n",
       "0                             0.0                        0.0   \n",
       "1                             1.0                        0.0   \n",
       "2                             0.0                        0.0   \n",
       "3                             1.0                        0.0   \n",
       "4                             0.0                        0.0   \n",
       "..                            ...                        ...   \n",
       "886                           0.0                        0.0   \n",
       "887                           0.0                        0.0   \n",
       "888                           0.0                        0.0   \n",
       "889                           0.0                        0.0   \n",
       "890                           0.0                        0.0   \n",
       "\n",
       "     social_status_military  social_status_noble_female  \\\n",
       "0                       0.0                         0.0   \n",
       "1                       0.0                         0.0   \n",
       "2                       0.0                         0.0   \n",
       "3                       0.0                         0.0   \n",
       "4                       0.0                         0.0   \n",
       "..                      ...                         ...   \n",
       "886                     0.0                         0.0   \n",
       "887                     0.0                         0.0   \n",
       "888                     0.0                         0.0   \n",
       "889                     0.0                         0.0   \n",
       "890                     0.0                         0.0   \n",
       "\n",
       "     social_status_noble_male  social_status_single_female  \n",
       "0                         0.0                          0.0  \n",
       "1                         0.0                          0.0  \n",
       "2                         0.0                          1.0  \n",
       "3                         0.0                          0.0  \n",
       "4                         0.0                          0.0  \n",
       "..                        ...                          ...  \n",
       "886                       0.0                          0.0  \n",
       "887                       0.0                          1.0  \n",
       "888                       0.0                          1.0  \n",
       "889                       0.0                          0.0  \n",
       "890                       0.0                          0.0  \n",
       "\n",
       "[891 rows x 12 columns]"
      ]
     },
     "execution_count": 10,
     "metadata": {},
     "output_type": "execute_result"
    }
   ],
   "source": [
    "pd.DataFrame(df_ohe, columns=ohe.get_feature_names_out(encode_col))"
   ]
  },
  {
   "cell_type": "code",
   "execution_count": 29,
   "id": "ba59f3fc-b34e-4aa3-87a8-598c52ee962b",
   "metadata": {},
   "outputs": [],
   "source": [
    "exp = Experiment()\n",
    "# exp.fit(inputs=df)"
   ]
  },
  {
   "cell_type": "code",
   "execution_count": 30,
   "id": "e5769a6b-ced6-4bb1-b235-5cca02aa0b49",
   "metadata": {},
   "outputs": [
    {
     "ename": "AssertionError",
     "evalue": "use method: fit() before executing transform()",
     "output_type": "error",
     "traceback": [
      "\u001b[0;31m---------------------------------------------------------------------------\u001b[0m",
      "\u001b[0;31mAssertionError\u001b[0m                            Traceback (most recent call last)",
      "Input \u001b[0;32mIn [30]\u001b[0m, in \u001b[0;36m<cell line: 1>\u001b[0;34m()\u001b[0m\n\u001b[0;32m----> 1\u001b[0m \u001b[43mexp\u001b[49m\u001b[38;5;241;43m.\u001b[39;49m\u001b[43mtransform\u001b[49m\u001b[43m(\u001b[49m\u001b[43minputs\u001b[49m\u001b[38;5;241;43m=\u001b[39;49m\u001b[43mdf\u001b[49m\u001b[43m)\u001b[49m\u001b[38;5;241m.\u001b[39minfo()\n",
      "Input \u001b[0;32mIn [28]\u001b[0m, in \u001b[0;36mBaseExperiment.transform\u001b[0;34m(self, inputs)\u001b[0m\n\u001b[1;32m     29\u001b[0m \u001b[38;5;28;01mdef\u001b[39;00m \u001b[38;5;21mtransform\u001b[39m(\u001b[38;5;28mself\u001b[39m, inputs):\n\u001b[0;32m---> 30\u001b[0m     \u001b[38;5;28;01massert\u001b[39;00m \u001b[38;5;28mself\u001b[39m\u001b[38;5;241m.\u001b[39mis_fit, \u001b[38;5;124m\"\u001b[39m\u001b[38;5;124muse method: fit() before executing transform()\u001b[39m\u001b[38;5;124m\"\u001b[39m\n\u001b[1;32m     31\u001b[0m     data \u001b[38;5;241m=\u001b[39m inputs\u001b[38;5;241m.\u001b[39mcopy()\n\u001b[1;32m     32\u001b[0m     data \u001b[38;5;241m=\u001b[39m \u001b[38;5;28mself\u001b[39m\u001b[38;5;241m.\u001b[39m_ohe(inputs\u001b[38;5;241m=\u001b[39mdata\u001b[38;5;241m.\u001b[39mloc[:,\u001b[38;5;28mself\u001b[39m\u001b[38;5;241m.\u001b[39mencode_col])\n",
      "\u001b[0;31mAssertionError\u001b[0m: use method: fit() before executing transform()"
     ]
    }
   ],
   "source": [
    "exp.transform(inputs=df).info()"
   ]
  },
  {
   "cell_type": "code",
   "execution_count": 31,
   "id": "245532aa-2edd-405a-8381-2c033ddd9a05",
   "metadata": {},
   "outputs": [
    {
     "name": "stderr",
     "output_type": "stream",
     "text": [
      "[2022-04-17 17:06:07,290]|0.000000|dev|transform|fit_transform|36|start|(891, 11)\n",
      "[2022-04-17 17:06:07,300]|0.004533|dev|transform|fit_transform|36|end|(891, 12)\n"
     ]
    },
    {
     "name": "stdout",
     "output_type": "stream",
     "text": [
      "<class 'pandas.core.frame.DataFrame'>\n",
      "RangeIndex: 891 entries, 0 to 890\n",
      "Data columns (total 12 columns):\n",
      " #   Column                         Non-Null Count  Dtype\n",
      "---  ------                         --------------  -----\n",
      " 0   sex_female                     891 non-null    int8 \n",
      " 1   sex_male                       891 non-null    int8 \n",
      " 2   social_status_believer         891 non-null    int8 \n",
      " 3   social_status_educated_person  891 non-null    int8 \n",
      " 4   social_status_female           891 non-null    int8 \n",
      " 5   social_status_male             891 non-null    int8 \n",
      " 6   social_status_married_female   891 non-null    int8 \n",
      " 7   social_status_master_male      891 non-null    int8 \n",
      " 8   social_status_military         891 non-null    int8 \n",
      " 9   social_status_noble_female     891 non-null    int8 \n",
      " 10  social_status_noble_male       891 non-null    int8 \n",
      " 11  social_status_single_female    891 non-null    int8 \n",
      "dtypes: int8(12)\n",
      "memory usage: 10.6 KB\n"
     ]
    }
   ],
   "source": [
    "exp.fit_transform(inputs=df).info()"
   ]
  },
  {
   "cell_type": "code",
   "execution_count": 32,
   "id": "4c9cb7de-f586-451c-9ad4-e0698230b872",
   "metadata": {},
   "outputs": [
    {
     "name": "stdout",
     "output_type": "stream",
     "text": [
      "<class 'pandas.core.frame.DataFrame'>\n",
      "Int64Index: 891 entries, 0 to 890\n",
      "Data columns (total 11 columns):\n",
      " #   Column         Non-Null Count  Dtype  \n",
      "---  ------         --------------  -----  \n",
      " 0   passengerid    891 non-null    int16  \n",
      " 1   survived       891 non-null    int8   \n",
      " 2   pclass         891 non-null    int16  \n",
      " 3   name           891 non-null    object \n",
      " 4   sex            891 non-null    object \n",
      " 5   age            714 non-null    float16\n",
      " 6   sibsp          891 non-null    int8   \n",
      " 7   parch          891 non-null    int8   \n",
      " 8   fare           891 non-null    float64\n",
      " 9   social_status  891 non-null    object \n",
      " 10  family_size    891 non-null    int8   \n",
      "dtypes: float16(1), float64(1), int16(2), int8(4), object(3)\n",
      "memory usage: 43.5+ KB\n"
     ]
    }
   ],
   "source": [
    "df.info()"
   ]
  },
  {
   "cell_type": "code",
   "execution_count": 41,
   "id": "f47cedbd-47b3-45f2-8f2c-cd092180913d",
   "metadata": {},
   "outputs": [],
   "source": [
    "exp_dict = get_experiment()"
   ]
  },
  {
   "cell_type": "code",
   "execution_count": 42,
   "id": "cedf4dd7-1778-486c-8237-4d342ed2575c",
   "metadata": {},
   "outputs": [
    {
     "data": {
      "text/plain": [
       "{'DEFAULT': <Section: DEFAULT>, 'exp1': <Section: exp1>}"
      ]
     },
     "execution_count": 42,
     "metadata": {},
     "output_type": "execute_result"
    }
   ],
   "source": [
    "dict(exp_dict)"
   ]
  },
  {
   "cell_type": "code",
   "execution_count": 44,
   "id": "047125ab-6c45-4494-a5c3-d58480623792",
   "metadata": {},
   "outputs": [
    {
     "data": {
      "text/plain": [
       "{'one_hot_col': '[\"sex\",\"social_status\"]',\n",
       " 'label_en_col': 'None',\n",
       " 'scaler': 'standard'}"
      ]
     },
     "execution_count": 44,
     "metadata": {},
     "output_type": "execute_result"
    }
   ],
   "source": [
    "dict(exp_dict[\"exp1\"])"
   ]
  },
  {
   "cell_type": "code",
   "execution_count": 48,
   "id": "032fce14-3ba9-433b-8314-f88564dce5b1",
   "metadata": {},
   "outputs": [
    {
     "data": {
      "text/plain": [
       "{'one_hot_col': ['sex', 'social_status'],\n",
       " 'label_en_col': None,\n",
       " 'scaler': 'standard'}"
      ]
     },
     "execution_count": 48,
     "metadata": {},
     "output_type": "execute_result"
    }
   ],
   "source": [
    "exp1"
   ]
  },
  {
   "cell_type": "code",
   "execution_count": null,
   "id": "58a9629f-490d-4277-bcbf-1959f688a5df",
   "metadata": {},
   "outputs": [],
   "source": []
  }
 ],
 "metadata": {
  "kernelspec": {
   "display_name": "Python 3",
   "language": "python",
   "name": "python3"
  },
  "language_info": {
   "codemirror_mode": {
    "name": "ipython",
    "version": 3
   },
   "file_extension": ".py",
   "mimetype": "text/x-python",
   "name": "python",
   "nbconvert_exporter": "python",
   "pygments_lexer": "ipython3",
   "version": "3.9.5"
  }
 },
 "nbformat": 4,
 "nbformat_minor": 5
}
