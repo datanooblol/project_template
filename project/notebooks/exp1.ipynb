{
 "cells": [
  {
   "cell_type": "code",
   "execution_count": 1,
   "id": "0a08aab4-b02c-4d0a-aecb-0e966f2a169d",
   "metadata": {},
   "outputs": [],
   "source": [
    "%load_ext autoreload\n",
    "%autoreload 2"
   ]
  },
  {
   "cell_type": "code",
   "execution_count": 6,
   "id": "34252f26-d90b-4f1e-af73-05394a6817b4",
   "metadata": {},
   "outputs": [],
   "source": [
    "from udf.extract.extract import *\n",
    "from udf.load.load import *\n",
    "from udf.model.model import *\n",
    "from udf.transform.transform import *\n",
    "from udf.utils.logger import *\n",
    "from udf.utils.utils import *\n",
    "from udf.utils.configs import *\n",
    "from udf.visualize.visualize import *"
   ]
  },
  {
   "cell_type": "code",
   "execution_count": 14,
   "id": "b55b2961-2584-482f-8acc-6d9c9300a14e",
   "metadata": {},
   "outputs": [],
   "source": [
    "conf = get_config()"
   ]
  },
  {
   "cell_type": "code",
   "execution_count": 15,
   "id": "f0556828-7154-4390-88b8-77678b003666",
   "metadata": {},
   "outputs": [
    {
     "data": {
      "text/plain": [
       "{'debug': '../logs/debug.log'}"
      ]
     },
     "execution_count": 15,
     "metadata": {},
     "output_type": "execute_result"
    }
   ],
   "source": [
    "dict(get_config()[\"log\"])"
   ]
  },
  {
   "cell_type": "code",
   "execution_count": 16,
   "id": "d613297c-47ce-437c-855a-a544a14e6795",
   "metadata": {},
   "outputs": [
    {
     "data": {
      "text/plain": [
       "{'raw': '../data/raw',\n",
       " 'interim': '../data/interim',\n",
       " 'processed': '../data/processed',\n",
       " 'results': '../data/results',\n",
       " 'test_data': '../data/test_data'}"
      ]
     },
     "execution_count": 16,
     "metadata": {},
     "output_type": "execute_result"
    }
   ],
   "source": [
    "dict(conf[\"data\"])"
   ]
  },
  {
   "cell_type": "code",
   "execution_count": 17,
   "id": "e944f7b5-1ba4-4e3a-b687-67e774d94bcc",
   "metadata": {},
   "outputs": [
    {
     "name": "stderr",
     "output_type": "stream",
     "text": [
      "[2022-04-10 17:47:48,506]|0.000000|transform|test_a|6|start|(20, 1)\n",
      "[2022-04-10 17:47:48,507]|0.000141|transform|test_a|6|end|(15, 1)\n",
      "[2022-04-10 17:47:48,518]|0.000000|transform|test_b|12|start|(20, 1)\n",
      "[2022-04-10 17:47:48,521]|0.000208|transform|test_b|12|end|(10, 1)\n",
      "[2022-04-10 17:47:48,538]|0.000000|transform|test_a|6|start|(20, 1)\n",
      "[2022-04-10 17:47:48,540]|0.000165|transform|test_a|6|end|(15, 1)\n",
      "[2022-04-10 17:47:48,550]|0.000000|transform|test_b|12|start|(15, 1)\n",
      "[2022-04-10 17:47:48,552]|0.000183|transform|test_b|12|end|(10, 1)\n",
      "[2022-04-10 17:47:48,565]|0.000000|transform|testing|7|start|(20, 1)\n",
      "[2022-04-10 17:47:48,568]|0.000422|transform|testing|7|end|(5, 1)\n"
     ]
    }
   ],
   "source": [
    "import pandas as pd\n",
    "\n",
    "test_df = pd.DataFrame({\n",
    "    \"test\":[i for i in range(20)]\n",
    "})\n",
    "\n",
    "@log_transform\n",
    "# @get_time\n",
    "def testing(inputs):\n",
    "    outputs = inputs\n",
    "    return outputs.head(5)\n",
    "\n",
    "prep = PreProcessing()\n",
    "_ = prep.test_a(inputs=test_df)\n",
    "_ = prep.test_b(inputs=test_df)\n",
    "_ = prep.runner(inputs=test_df)\n",
    "_ = testing(inputs=test_df)"
   ]
  },
  {
   "cell_type": "code",
   "execution_count": 18,
   "id": "46784855-8f3e-41f5-a54c-6cd49f84d1dd",
   "metadata": {},
   "outputs": [
    {
     "name": "stderr",
     "output_type": "stream",
     "text": [
      "[2022-04-10 17:47:48,988]|0.009067|extract|extract_train_raw|13|epoch|(891, 12)\n",
      "[2022-04-10 17:47:49,010]|0.013144|load|load_train_interim|25|epoch|(891, 12)\n",
      "[2022-04-10 17:47:49,027]|0.009698|extract|extract_train_interim|19|epoch|(891, 12)\n",
      "[2022-04-10 17:47:49,048]|0.013668|load|load_train_processed|31|epoch|(891, 12)\n",
      "[2022-04-10 17:47:49,067]|0.011437|extract|extract_train_processed|25|epoch|(891, 12)\n"
     ]
    }
   ],
   "source": [
    "edt = ExtractData()\n",
    "ldt = LoadData()\n",
    "df = edt.extract_train_raw()\n",
    "ldt.load_train_interim(inputs=df)\n",
    "df = edt.extract_train_interim()\n",
    "ldt.load_train_processed(inputs=df)\n",
    "df = edt.extract_train_processed()"
   ]
  },
  {
   "cell_type": "code",
   "execution_count": 19,
   "id": "e2cb4429-0bc5-4d95-97e9-a1e384504bf6",
   "metadata": {},
   "outputs": [
    {
     "name": "stderr",
     "output_type": "stream",
     "text": [
      "[2022-04-10 17:47:49,434]|0.006838|extract|extract_test_raw|16|epoch|(418, 11)\n",
      "[2022-04-10 17:47:49,454]|0.011260|load|load_test_interim|28|epoch|(418, 11)\n",
      "[2022-04-10 17:47:49,471]|0.009464|extract|extract_test_interim|22|epoch|(418, 11)\n",
      "[2022-04-10 17:47:49,491]|0.011952|load|load_test_processed|34|epoch|(418, 11)\n",
      "[2022-04-10 17:47:49,507]|0.007771|extract|extract_test_processed|28|epoch|(418, 11)\n"
     ]
    }
   ],
   "source": [
    "df = edt.extract_test_raw()\n",
    "ldt.load_test_interim(inputs=df)\n",
    "df = edt.extract_test_interim()\n",
    "ldt.load_test_processed(inputs=df)\n",
    "df = edt.extract_test_processed()"
   ]
  },
  {
   "cell_type": "code",
   "execution_count": null,
   "id": "cc042582-a3fb-4bda-bac7-c615fc5e2e0b",
   "metadata": {},
   "outputs": [],
   "source": []
  }
 ],
 "metadata": {
  "kernelspec": {
   "display_name": "Python 3",
   "language": "python",
   "name": "python3"
  },
  "language_info": {
   "codemirror_mode": {
    "name": "ipython",
    "version": 3
   },
   "file_extension": ".py",
   "mimetype": "text/x-python",
   "name": "python",
   "nbconvert_exporter": "python",
   "pygments_lexer": "ipython3",
   "version": "3.9.5"
  }
 },
 "nbformat": 4,
 "nbformat_minor": 5
}
