{
 "cells": [
  {
   "cell_type": "code",
   "execution_count": 1,
   "id": "fcf47753-7600-4ff3-b9d8-7f8b3fe7ba4b",
   "metadata": {},
   "outputs": [],
   "source": [
    "%load_ext autoreload\n",
    "%autoreload 2"
   ]
  },
  {
   "cell_type": "code",
   "execution_count": 2,
   "id": "c8b7bb4a-3990-4be4-8b49-25896b72d29c",
   "metadata": {},
   "outputs": [],
   "source": [
    "from src.load import *"
   ]
  },
  {
   "cell_type": "code",
   "execution_count": 3,
   "id": "1be99adb-fd37-48a1-b576-6140822ee682",
   "metadata": {},
   "outputs": [
    {
     "name": "stdout",
     "output_type": "stream",
     "text": [
      "test load\n"
     ]
    }
   ],
   "source": [
    "load.test_load()"
   ]
  },
  {
   "cell_type": "code",
   "execution_count": 4,
   "id": "96f23ccb-6248-41b8-a86e-6604d4ce6cee",
   "metadata": {},
   "outputs": [
    {
     "name": "stdout",
     "output_type": "stream",
     "text": [
      "test load\n"
     ]
    }
   ],
   "source": [
    "test_load()"
   ]
  },
  {
   "cell_type": "code",
   "execution_count": null,
   "id": "b6e87e64-d65d-4c7d-8081-a3ab3fc208b2",
   "metadata": {},
   "outputs": [],
   "source": []
  }
 ],
 "metadata": {
  "kernelspec": {
   "display_name": "Python 3",
   "language": "python",
   "name": "python3"
  },
  "language_info": {
   "codemirror_mode": {
    "name": "ipython",
    "version": 3
   },
   "file_extension": ".py",
   "mimetype": "text/x-python",
   "name": "python",
   "nbconvert_exporter": "python",
   "pygments_lexer": "ipython3",
   "version": "3.9.5"
  }
 },
 "nbformat": 4,
 "nbformat_minor": 5
}
